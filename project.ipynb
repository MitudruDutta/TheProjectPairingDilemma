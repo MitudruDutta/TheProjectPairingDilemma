{
 "cells": [
  {
   "cell_type": "markdown",
   "id": "fcc46e57-97c9-4bb4-a882-33d842910663",
   "metadata": {},
   "source": [
    "# The Project Pairing Dilemma"
   ]
  },
  {
   "cell_type": "markdown",
   "id": "50a9cbe5-8a92-4c3a-a76c-1730978f5596",
   "metadata": {},
   "source": [
    "Predict whether a student prefers working Solo (0) or in a Team (1) from a small survey. The notebook auto-detects messy CSV headers, cleans inputs, and compares multiple ML models with cross-validated hyperparameter search and threshold tuning."
   ]
  },
  {
   "cell_type": "markdown",
   "id": "016af49c-888e-4c82-94a9-ec3d1337d301",
   "metadata": {},
   "source": [
    "## The Problem"
   ]
  },
  {
   "cell_type": "markdown",
   "id": "317645be-9a19-4b79-adf3-adf855962879",
   "metadata": {},
   "source": [
    "* The problem of predicting whether a student prefers working solo or in a group is defined in a classification framework, where the predicted variable is teamwork_preference (binary: solo vs team).\n",
    "\n",
    "* The preference is influenced by psychological and social factors such as introversion/extraversion, risk-taking ability, club participation, and time spent on hobbies.\n",
    "\n",
    "* The task is to build a machine learning model that predicts this preference using survey features.\n",
    "\n",
    "* Impact: Helps faculty form balanced project teams, avoiding mismatches and improving collaboration outcomes."
   ]
  },
  {
   "cell_type": "markdown",
   "id": "627528ee-c3d0-4e4c-b756-b049491f9580",
   "metadata": {},
   "source": [
    "## Loading the python packages"
   ]
  },
  {
   "cell_type": "code",
   "id": "fb68197052507d03",
   "metadata": {
    "ExecuteTime": {
     "end_time": "2025-09-08T07:31:55.863035Z",
     "start_time": "2025-09-08T07:31:55.646796Z"
    }
   },
   "source": [
    "import re\n",
    "import warnings\n",
    "import numpy as np\n",
    "import pandas as pd\n",
    "import matplotlib.pyplot as plt\n",
    "import seaborn as sns\n",
    "\n",
    "from sklearn.model_selection import train_test_split, StratifiedKFold\n",
    "from sklearn.preprocessing import StandardScaler, OneHotEncoder\n",
    "from sklearn.metrics import (\n",
    "    classification_report, confusion_matrix, accuracy_score,\n",
    "    roc_curve, roc_auc_score, balanced_accuracy_score\n",
    ")\n",
    "from sklearn.compose import ColumnTransformer\n",
    "from sklearn.pipeline import Pipeline\n",
    "from sklearn.impute import SimpleImputer\n",
    "\n",
    "from sklearn.linear_model import LogisticRegression\n",
    "from sklearn.ensemble import RandomForestClassifier\n",
    "from sklearn.svm import SVC\n",
    "from sklearn.neighbors import KNeighborsClassifier\n",
    "from sklearn.base import clone\n",
    "\n",
    "# ADDITIONS FOR SPEEDUPS\n",
    "from sklearn.model_selection import RandomizedSearchCV\n",
    "from sklearn.model_selection import GridSearchCV  # added for fine tuning step\n",
    "from sklearn.ensemble import HistGradientBoostingClassifier\n",
    "from joblib import Memory\n",
    "\n",
    "warnings.filterwarnings(\"ignore\")\n",
    "sns.set_theme(style=\"whitegrid\")\n",
    "np.random.seed(42)\n",
    "\n",
    "# Cache transformations to avoid recomputing in CV\n",
    "memory = Memory(location=\"sklearn_cache\", verbose=0)\n"
   ],
   "outputs": [],
   "execution_count": 1
  },
  {
   "cell_type": "markdown",
   "id": "fb2a81ef-e682-4e78-833c-53209042135e",
   "metadata": {},
   "source": [
    "## Load Dataset"
   ]
  },
  {
   "cell_type": "code",
   "id": "997a141c-f3ea-42d9-a0dc-cb121ea6aecd",
   "metadata": {
    "ExecuteTime": {
     "end_time": "2025-09-08T07:32:03.742723Z",
     "start_time": "2025-09-08T07:32:03.734722Z"
    }
   },
   "source": [
    "raw = pd.read_csv(\"data.csv\")\n",
    "print(f\"Loaded shape: {raw.shape}\")"
   ],
   "outputs": [
    {
     "name": "stdout",
     "output_type": "stream",
     "text": [
      "Loaded shape: (111, 73)\n"
     ]
    }
   ],
   "execution_count": 2
  },
  {
   "cell_type": "markdown",
   "id": "64f98cc5-bdf8-4ff8-8a50-40e1e4b4421c",
   "metadata": {},
   "source": [
    "## Normalize Column Names"
   ]
  },
  {
   "cell_type": "code",
   "id": "9bcfbd63-12a8-4482-b1e8-db66b8a9e6fd",
   "metadata": {
    "ExecuteTime": {
     "end_time": "2025-09-08T07:32:06.177312Z",
     "start_time": "2025-09-08T07:32:06.173805Z"
    }
   },
   "source": [
    "def _normalize(s: str) -> str:\n",
    "    s = str(s)\n",
    "    s = re.sub(r\"\\s+\", \" \", s).strip()  # collapse whitespace/newlines\n",
    "    s = re.sub(r\"[^0-9a-zA-Z]+\", \"_\", s)\n",
    "    s = re.sub(r\"_+\", \"_\", s).strip(\"_\")\n",
    "    return s.lower()\n"
   ],
   "outputs": [],
   "execution_count": 3
  },
  {
   "cell_type": "markdown",
   "id": "db6ed421-0764-40ad-9a83-c1de163ef716",
   "metadata": {},
   "source": [
    "## Build Normalized Column Mapping"
   ]
  },
  {
   "cell_type": "code",
   "id": "9967655e-5c11-4234-829c-74b153a34865",
   "metadata": {
    "ExecuteTime": {
     "end_time": "2025-09-08T07:32:07.410295Z",
     "start_time": "2025-09-08T07:32:07.406271Z"
    }
   },
   "source": [
    "norm_cols = {c: _normalize(c) for c in raw.columns}\n",
    "norm_to_orig = {}\n",
    "for orig, norm in norm_cols.items():\n",
    "    norm_to_orig.setdefault(norm, orig)\n",
    "norm_list = list(norm_to_orig.keys())\n"
   ],
   "outputs": [],
   "execution_count": 4
  },
  {
   "cell_type": "markdown",
   "id": "d2767bd7-b7c1-4abe-a1ee-9ddb7efa250a",
   "metadata": {},
   "source": [
    "## Flexible Column Finder"
   ]
  },
  {
   "cell_type": "code",
   "id": "d6a8be90-2855-49ba-8b44-b7445a393f14",
   "metadata": {
    "ExecuteTime": {
     "end_time": "2025-09-08T07:32:08.467518Z",
     "start_time": "2025-09-08T07:32:08.463510Z"
    }
   },
   "source": [
    "def find_col_by_keywords(keywords):\n",
    "    \"\"\"\n",
    "    keywords: list where each element is either a string (must be contained)\n",
    "              or an iterable of strings (any of which can match that position)\n",
    "    Returns normalized column name best matching all constraints.\n",
    "    \"\"\"\n",
    "    candidates = []\n",
    "    for col in norm_list:\n",
    "        ok = True\n",
    "        for kw in keywords:\n",
    "            if isinstance(kw, (list, tuple, set)):\n",
    "                if not any(k in col for k in kw):\n",
    "                    ok = False\n",
    "                    break\n",
    "            else:\n",
    "                if kw not in col:\n",
    "                    ok = False\n",
    "                    break\n",
    "        if ok:\n",
    "            candidates.append(col)\n",
    "    if not candidates:\n",
    "        return None\n",
    "    candidates.sort(key=len)  # prefer shortest match\n",
    "    return candidates[0]\n"
   ],
   "outputs": [],
   "execution_count": 5
  },
  {
   "cell_type": "markdown",
   "id": "bbf00053-d831-4124-8f70-325c5a7486d8",
   "metadata": {},
   "source": [
    "## Identify Required Columns"
   ]
  },
  {
   "cell_type": "code",
   "id": "2acd9700-60e8-4130-8f1b-8c5d5bdc6e00",
   "metadata": {
    "ExecuteTime": {
     "end_time": "2025-09-08T07:32:09.377094Z",
     "start_time": "2025-09-08T07:32:09.373158Z"
    }
   },
   "source": [
    "intro_col_norm = find_col_by_keywords([\"introversion\", \"extraversion\"])\n",
    "risk_col_norm = find_col_by_keywords([\"risk\", \"taking\"])\n",
    "weekly_col_norm = find_col_by_keywords([\"weekly\", \"hobby\", \"hours\"])\n",
    "club1_col_norm = find_col_by_keywords([[\"club\"], [\"top1\", \"top_1\"]])\n",
    "teamwork_col_norm = find_col_by_keywords([\"teamwork\", \"preference\"])\n",
    "\n",
    "required_map = {\n",
    "    \"introversion_extraversion\": intro_col_norm,\n",
    "    \"risk_taking\": risk_col_norm,\n",
    "    \"weekly_hobby_hours\": weekly_col_norm,\n",
    "    \"club_top1\": club1_col_norm,\n",
    "    \"teamwork_preference\": teamwork_col_norm,\n",
    "}\n"
   ],
   "outputs": [],
   "execution_count": 6
  },
  {
   "cell_type": "markdown",
   "id": "a236039c-8fc1-42fa-b658-3eb29a2c3643",
   "metadata": {},
   "source": [
    "## Handle Missing Columns"
   ]
  },
  {
   "cell_type": "code",
   "id": "1c36f1cc-77bb-44d9-9d1c-5b16dc886c9e",
   "metadata": {
    "ExecuteTime": {
     "end_time": "2025-09-08T07:32:10.370894Z",
     "start_time": "2025-09-08T07:32:10.367809Z"
    }
   },
   "source": [
    "missing = {k: v for k, v in required_map.items() if v is None}\n",
    "if missing:\n",
    "    print(\"ERROR: Could not automatically locate required columns by keywords:\")\n",
    "    for k in missing:\n",
    "        print(f\" - {k}\")\n",
    "    print(\"\\nAvailable normalized columns (sample):\", norm_list[:25], \"... total:\", len(norm_list))\n",
    "    raise SystemExit(1)\n"
   ],
   "outputs": [],
   "execution_count": 7
  },
  {
   "cell_type": "markdown",
   "id": "ba81a3c4-60d5-48f9-a83c-6ff357a04900",
   "metadata": {},
   "source": [
    "## Build Clean DataFrame"
   ]
  },
  {
   "cell_type": "code",
   "id": "af098aa2-d0d7-4df4-88ec-a93b7d2d10e2",
   "metadata": {
    "ExecuteTime": {
     "end_time": "2025-09-08T07:32:11.345962Z",
     "start_time": "2025-09-08T07:32:11.341723Z"
    }
   },
   "source": [
    "rename_map = {norm_to_orig[v]: k for k, v in required_map.items()}\n",
    "df = raw.rename(columns=rename_map)[list(required_map.keys())].copy()\n"
   ],
   "outputs": [],
   "execution_count": 8
  },
  {
   "cell_type": "markdown",
   "id": "27f00818-893b-48c8-83cf-839334e991b7",
   "metadata": {},
   "source": [
    "## Basic Data Exploration"
   ]
  },
  {
   "cell_type": "code",
   "id": "d30885b0-d8db-45ae-b8c0-0b165ae895c3",
   "metadata": {
    "ExecuteTime": {
     "end_time": "2025-09-08T07:32:12.304592Z",
     "start_time": "2025-09-08T07:32:12.278585Z"
    }
   },
   "source": [
    "print(\"\\nDetected columns mapping:\")\n",
    "for k, v in required_map.items():\n",
    "    print(f\" - {k:<24} <- {norm_to_orig[v]}\")\n",
    "\n",
    "print(\"\\nHead:\")\n",
    "display(df.head(3))\n",
    "\n",
    "print(\"\\nTail:\")\n",
    "display(df.tail(3))\n",
    "\n",
    "print(\"\\nInfo:\")\n",
    "display(df.info())\n",
    "\n",
    "print(\"\\nDescribe:\")\n",
    "display(df.describe())\n",
    "\n",
    "print(\"\\nMissing values per column:\")\n",
    "print(df.isna().sum())"
   ],
   "outputs": [
    {
     "name": "stdout",
     "output_type": "stream",
     "text": [
      "\n",
      "Detected columns mapping:\n",
      " - introversion_extraversion <- introversion_extraversion\n",
      " - risk_taking              <- risk_taking\n",
      " - weekly_hobby_hours       <- weekly_hobby_hours\n",
      " - club_top1                <- club_top1\n",
      " - teamwork_preference      <- teamwork_preference\n",
      "\n",
      "Head:\n"
     ]
    },
    {
     "data": {
      "text/plain": [
       "   introversion_extraversion  risk_taking  weekly_hobby_hours      club_top1  \\\n",
       "0                          2            2                   0  Robotics Club   \n",
       "1                          3            2                  40    Coding Club   \n",
       "2                          3            4                   5    Coding Club   \n",
       "\n",
       "   teamwork_preference  \n",
       "0                    3  \n",
       "1                    3  \n",
       "2                    3  "
      ],
      "text/html": [
       "<div>\n",
       "<style scoped>\n",
       "    .dataframe tbody tr th:only-of-type {\n",
       "        vertical-align: middle;\n",
       "    }\n",
       "\n",
       "    .dataframe tbody tr th {\n",
       "        vertical-align: top;\n",
       "    }\n",
       "\n",
       "    .dataframe thead th {\n",
       "        text-align: right;\n",
       "    }\n",
       "</style>\n",
       "<table border=\"1\" class=\"dataframe\">\n",
       "  <thead>\n",
       "    <tr style=\"text-align: right;\">\n",
       "      <th></th>\n",
       "      <th>introversion_extraversion</th>\n",
       "      <th>risk_taking</th>\n",
       "      <th>weekly_hobby_hours</th>\n",
       "      <th>club_top1</th>\n",
       "      <th>teamwork_preference</th>\n",
       "    </tr>\n",
       "  </thead>\n",
       "  <tbody>\n",
       "    <tr>\n",
       "      <th>0</th>\n",
       "      <td>2</td>\n",
       "      <td>2</td>\n",
       "      <td>0</td>\n",
       "      <td>Robotics Club</td>\n",
       "      <td>3</td>\n",
       "    </tr>\n",
       "    <tr>\n",
       "      <th>1</th>\n",
       "      <td>3</td>\n",
       "      <td>2</td>\n",
       "      <td>40</td>\n",
       "      <td>Coding Club</td>\n",
       "      <td>3</td>\n",
       "    </tr>\n",
       "    <tr>\n",
       "      <th>2</th>\n",
       "      <td>3</td>\n",
       "      <td>4</td>\n",
       "      <td>5</td>\n",
       "      <td>Coding Club</td>\n",
       "      <td>3</td>\n",
       "    </tr>\n",
       "  </tbody>\n",
       "</table>\n",
       "</div>"
      ]
     },
     "metadata": {},
     "output_type": "display_data",
     "jetTransient": {
      "display_id": null
     }
    },
    {
     "name": "stdout",
     "output_type": "stream",
     "text": [
      "\n",
      "Tail:\n"
     ]
    },
    {
     "data": {
      "text/plain": [
       "     introversion_extraversion  risk_taking  weekly_hobby_hours  \\\n",
       "108                          3            3                  10   \n",
       "109                          3            3                   0   \n",
       "110                          4            4                  30   \n",
       "\n",
       "                 club_top1  teamwork_preference  \n",
       "108  Entrepreneurship Cell                    5  \n",
       "109            Sports Club                    3  \n",
       "110            Coding Club                    4  "
      ],
      "text/html": [
       "<div>\n",
       "<style scoped>\n",
       "    .dataframe tbody tr th:only-of-type {\n",
       "        vertical-align: middle;\n",
       "    }\n",
       "\n",
       "    .dataframe tbody tr th {\n",
       "        vertical-align: top;\n",
       "    }\n",
       "\n",
       "    .dataframe thead th {\n",
       "        text-align: right;\n",
       "    }\n",
       "</style>\n",
       "<table border=\"1\" class=\"dataframe\">\n",
       "  <thead>\n",
       "    <tr style=\"text-align: right;\">\n",
       "      <th></th>\n",
       "      <th>introversion_extraversion</th>\n",
       "      <th>risk_taking</th>\n",
       "      <th>weekly_hobby_hours</th>\n",
       "      <th>club_top1</th>\n",
       "      <th>teamwork_preference</th>\n",
       "    </tr>\n",
       "  </thead>\n",
       "  <tbody>\n",
       "    <tr>\n",
       "      <th>108</th>\n",
       "      <td>3</td>\n",
       "      <td>3</td>\n",
       "      <td>10</td>\n",
       "      <td>Entrepreneurship Cell</td>\n",
       "      <td>5</td>\n",
       "    </tr>\n",
       "    <tr>\n",
       "      <th>109</th>\n",
       "      <td>3</td>\n",
       "      <td>3</td>\n",
       "      <td>0</td>\n",
       "      <td>Sports Club</td>\n",
       "      <td>3</td>\n",
       "    </tr>\n",
       "    <tr>\n",
       "      <th>110</th>\n",
       "      <td>4</td>\n",
       "      <td>4</td>\n",
       "      <td>30</td>\n",
       "      <td>Coding Club</td>\n",
       "      <td>4</td>\n",
       "    </tr>\n",
       "  </tbody>\n",
       "</table>\n",
       "</div>"
      ]
     },
     "metadata": {},
     "output_type": "display_data",
     "jetTransient": {
      "display_id": null
     }
    },
    {
     "name": "stdout",
     "output_type": "stream",
     "text": [
      "\n",
      "Info:\n",
      "<class 'pandas.core.frame.DataFrame'>\n",
      "RangeIndex: 111 entries, 0 to 110\n",
      "Data columns (total 5 columns):\n",
      " #   Column                     Non-Null Count  Dtype \n",
      "---  ------                     --------------  ----- \n",
      " 0   introversion_extraversion  111 non-null    int64 \n",
      " 1   risk_taking                111 non-null    int64 \n",
      " 2   weekly_hobby_hours         111 non-null    int64 \n",
      " 3   club_top1                  111 non-null    object\n",
      " 4   teamwork_preference        111 non-null    int64 \n",
      "dtypes: int64(4), object(1)\n",
      "memory usage: 4.5+ KB\n"
     ]
    },
    {
     "data": {
      "text/plain": [
       "None"
      ]
     },
     "metadata": {},
     "output_type": "display_data",
     "jetTransient": {
      "display_id": null
     }
    },
    {
     "name": "stdout",
     "output_type": "stream",
     "text": [
      "\n",
      "Describe:\n"
     ]
    },
    {
     "data": {
      "text/plain": [
       "       introversion_extraversion  risk_taking  weekly_hobby_hours  \\\n",
       "count                 111.000000   111.000000          111.000000   \n",
       "mean                    3.036036     3.675676           13.126126   \n",
       "std                     1.159372     1.129458           11.008358   \n",
       "min                     1.000000     1.000000            0.000000   \n",
       "25%                     2.000000     3.000000            5.000000   \n",
       "50%                     3.000000     4.000000           10.000000   \n",
       "75%                     4.000000     5.000000           20.000000   \n",
       "max                     5.000000     5.000000           40.000000   \n",
       "\n",
       "       teamwork_preference  \n",
       "count           111.000000  \n",
       "mean              3.648649  \n",
       "std               1.255161  \n",
       "min               1.000000  \n",
       "25%               3.000000  \n",
       "50%               4.000000  \n",
       "75%               5.000000  \n",
       "max               5.000000  "
      ],
      "text/html": [
       "<div>\n",
       "<style scoped>\n",
       "    .dataframe tbody tr th:only-of-type {\n",
       "        vertical-align: middle;\n",
       "    }\n",
       "\n",
       "    .dataframe tbody tr th {\n",
       "        vertical-align: top;\n",
       "    }\n",
       "\n",
       "    .dataframe thead th {\n",
       "        text-align: right;\n",
       "    }\n",
       "</style>\n",
       "<table border=\"1\" class=\"dataframe\">\n",
       "  <thead>\n",
       "    <tr style=\"text-align: right;\">\n",
       "      <th></th>\n",
       "      <th>introversion_extraversion</th>\n",
       "      <th>risk_taking</th>\n",
       "      <th>weekly_hobby_hours</th>\n",
       "      <th>teamwork_preference</th>\n",
       "    </tr>\n",
       "  </thead>\n",
       "  <tbody>\n",
       "    <tr>\n",
       "      <th>count</th>\n",
       "      <td>111.000000</td>\n",
       "      <td>111.000000</td>\n",
       "      <td>111.000000</td>\n",
       "      <td>111.000000</td>\n",
       "    </tr>\n",
       "    <tr>\n",
       "      <th>mean</th>\n",
       "      <td>3.036036</td>\n",
       "      <td>3.675676</td>\n",
       "      <td>13.126126</td>\n",
       "      <td>3.648649</td>\n",
       "    </tr>\n",
       "    <tr>\n",
       "      <th>std</th>\n",
       "      <td>1.159372</td>\n",
       "      <td>1.129458</td>\n",
       "      <td>11.008358</td>\n",
       "      <td>1.255161</td>\n",
       "    </tr>\n",
       "    <tr>\n",
       "      <th>min</th>\n",
       "      <td>1.000000</td>\n",
       "      <td>1.000000</td>\n",
       "      <td>0.000000</td>\n",
       "      <td>1.000000</td>\n",
       "    </tr>\n",
       "    <tr>\n",
       "      <th>25%</th>\n",
       "      <td>2.000000</td>\n",
       "      <td>3.000000</td>\n",
       "      <td>5.000000</td>\n",
       "      <td>3.000000</td>\n",
       "    </tr>\n",
       "    <tr>\n",
       "      <th>50%</th>\n",
       "      <td>3.000000</td>\n",
       "      <td>4.000000</td>\n",
       "      <td>10.000000</td>\n",
       "      <td>4.000000</td>\n",
       "    </tr>\n",
       "    <tr>\n",
       "      <th>75%</th>\n",
       "      <td>4.000000</td>\n",
       "      <td>5.000000</td>\n",
       "      <td>20.000000</td>\n",
       "      <td>5.000000</td>\n",
       "    </tr>\n",
       "    <tr>\n",
       "      <th>max</th>\n",
       "      <td>5.000000</td>\n",
       "      <td>5.000000</td>\n",
       "      <td>40.000000</td>\n",
       "      <td>5.000000</td>\n",
       "    </tr>\n",
       "  </tbody>\n",
       "</table>\n",
       "</div>"
      ]
     },
     "metadata": {},
     "output_type": "display_data",
     "jetTransient": {
      "display_id": null
     }
    },
    {
     "name": "stdout",
     "output_type": "stream",
     "text": [
      "\n",
      "Missing values per column:\n",
      "introversion_extraversion    0\n",
      "risk_taking                  0\n",
      "weekly_hobby_hours           0\n",
      "club_top1                    0\n",
      "teamwork_preference          0\n",
      "dtype: int64\n"
     ]
    }
   ],
   "execution_count": 9
  },
  {
   "cell_type": "markdown",
   "id": "eedd864b-b236-4ed8-acab-33d13c235322",
   "metadata": {},
   "source": [
    "## Target Variable Binarization and Data Cleaning"
   ]
  },
  {
   "cell_type": "code",
   "id": "7a249f86e99df3ee",
   "metadata": {
    "ExecuteTime": {
     "end_time": "2025-09-08T07:32:22.948548Z",
     "start_time": "2025-09-08T07:32:22.942190Z"
    }
   },
   "source": [
    "# The survey uses 1=Prefer Solo, 5=Prefer Teams. We'll binarize:\n",
    "# - Solo: 1-2 -> 0\n",
    "# - Team: 4-5 -> 1\n",
    "# - Neutral (3) rows will be dropped to make a clear binary classification.\n",
    "\n",
    "# Coerce numeric types for the Likert features and weekly hours when applicable\n",
    "for col in [\"introversion_extraversion\", \"risk_taking\", \"weekly_hobby_hours\", \"teamwork_preference\"]:\n",
    "    df[col] = pd.to_numeric(df[col], errors=\"coerce\")\n",
    "\n",
    "before_rows = len(df)\n",
    "df = df[df[\"teamwork_preference\"].isin([1, 2, 4, 5])].copy()\n",
    "removed = before_rows - len(df)\n",
    "if removed:\n",
    "    print(f\"Filtered out {removed} neutral rows (teamwork_preference == 3) for a clean binary target.\")\n",
    "\n",
    "df[\"teamwork_preference_bin\"] = (df[\"teamwork_preference\"] >= 4).astype(int)\n",
    "\n",
    "# Report class balance\n",
    "print(\"\\nBinary class distribution (0=Solo, 1=Team):\")\n",
    "print(df[\"teamwork_preference_bin\"].value_counts().sort_index())\n"
   ],
   "outputs": [
    {
     "name": "stdout",
     "output_type": "stream",
     "text": [
      "Filtered out 38 neutral rows (teamwork_preference == 3) for a clean binary target.\n",
      "\n",
      "Binary class distribution (0=Solo, 1=Team):\n",
      "teamwork_preference_bin\n",
      "0    15\n",
      "1    58\n",
      "Name: count, dtype: int64\n"
     ]
    }
   ],
   "execution_count": 10
  },
  {
   "cell_type": "markdown",
   "id": "05ec747d-7789-49b5-a1da-c86328020899",
   "metadata": {},
   "source": [
    "## Feature Selection and Train-Test Split"
   ]
  },
  {
   "cell_type": "code",
   "id": "261754cadbcaccf1",
   "metadata": {
    "ExecuteTime": {
     "end_time": "2025-09-08T07:32:24.738415Z",
     "start_time": "2025-09-08T07:32:24.731985Z"
    }
   },
   "source": [
    "features = [\"introversion_extraversion\", \"risk_taking\", \"weekly_hobby_hours\", \"club_top1\"]\n",
    "num_features = [\"introversion_extraversion\", \"risk_taking\", \"weekly_hobby_hours\"]\n",
    "cat_features = [\"club_top1\"]\n",
    "\n",
    "y = df[\"teamwork_preference_bin\"].astype(int).values\n",
    "X = df[features].copy()\n",
    "\n",
    "X_train, X_test, y_train, y_test = train_test_split(\n",
    "    X, y, test_size=0.25, random_state=42, stratify=y\n",
    ")\n",
    "print(f\"Train size: {X_train.shape}, Test size: {X_test.shape}\")\n"
   ],
   "outputs": [
    {
     "name": "stdout",
     "output_type": "stream",
     "text": [
      "Train size: (54, 4), Test size: (19, 4)\n"
     ]
    }
   ],
   "execution_count": 11
  },
  {
   "cell_type": "markdown",
   "id": "b244b5ff-99e7-486d-aa5b-2c3b4c939a2d",
   "metadata": {},
   "source": [
    "## Preprocessing and Model Pipelines"
   ]
  },
  {
   "cell_type": "markdown",
   "id": "f540eece-0609-4f3c-a39e-ea24f3256c3f",
   "metadata": {},
   "source": [
    "### Numeric Feature Transformer"
   ]
  },
  {
   "cell_type": "code",
   "id": "4133eadf-452f-40d2-8d8b-399eca049abe",
   "metadata": {
    "ExecuteTime": {
     "end_time": "2025-09-08T07:32:27.598624Z",
     "start_time": "2025-09-08T07:32:27.595253Z"
    }
   },
   "source": [
    "numeric_transformer = Pipeline(steps=[\n",
    "    (\"imputer\", SimpleImputer(strategy=\"median\")),\n",
    "    (\"scaler\", StandardScaler())\n",
    "])\n"
   ],
   "outputs": [],
   "execution_count": 12
  },
  {
   "cell_type": "markdown",
   "id": "6bbf774c-a2b0-4e41-8c26-f1aec2cc060c",
   "metadata": {},
   "source": [
    "### Categorical Feature Transformer"
   ]
  },
  {
   "cell_type": "code",
   "id": "40b552b8-9ad5-4a78-a2e0-d32488a2272e",
   "metadata": {
    "ExecuteTime": {
     "end_time": "2025-09-08T07:32:30.075984Z",
     "start_time": "2025-09-08T07:32:30.072639Z"
    }
   },
   "source": [
    "categorical_transformer = Pipeline(steps=[\n",
    "    (\"imputer\", SimpleImputer(strategy=\"most_frequent\")),\n",
    "    (\"onehot\", OneHotEncoder(handle_unknown=\"ignore\"))\n",
    "])\n"
   ],
   "outputs": [],
   "execution_count": 13
  },
  {
   "cell_type": "markdown",
   "id": "45dbe82f-c932-4576-9774-2280cab77ec0",
   "metadata": {},
   "source": [
    "### Column Transformer (Combined Preprocessing)"
   ]
  },
  {
   "cell_type": "markdown",
   "id": "c3910d72-050e-48d8-b770-6b35c0d57845",
   "metadata": {},
   "source": [
    "* Apply different preprocessing steps to numeric and categorical features simultaneously."
   ]
  },
  {
   "cell_type": "code",
   "id": "fef4d426-c3c5-4b12-bb66-c7a1f80f352a",
   "metadata": {
    "ExecuteTime": {
     "end_time": "2025-09-08T07:32:31.758226Z",
     "start_time": "2025-09-08T07:32:31.755323Z"
    }
   },
   "source": [
    "preprocess = ColumnTransformer(\n",
    "    transformers=[\n",
    "        (\"num\", numeric_transformer, num_features),\n",
    "        (\"cat\", categorical_transformer, cat_features)\n",
    "    ]\n",
    ")\n"
   ],
   "outputs": [],
   "execution_count": 14
  },
  {
   "cell_type": "markdown",
   "id": "e1e535ce-766d-4024-ae06-0ab6389392e7",
   "metadata": {},
   "source": [
    "### Define Base Models"
   ]
  },
  {
   "cell_type": "markdown",
   "id": "c9b0fd39-7e62-4fd8-8067-2106dad2aa31",
   "metadata": {},
   "source": [
    "* Logistic Regression → interpretable linear model that estimates class probabilities; with balanced weights and liblinear solver, it handles class imbalance well.\n",
    "\n",
    "* Random Forest → ensemble of 300 decision trees using bagging; captures nonlinear feature interactions, reduces overfitting, and provides feature importance.\n",
    "\n",
    "* Linear SVM → finds the maximum-margin hyperplane in high-dimensional space; effective for small/medium datasets but slower with large ones.\n",
    "\n",
    "* KNN (K-Nearest Neighbors) → non-parametric method that classifies based on majority vote of nearest samples; simple yet sensitive to scaling and noisy data.\n",
    "\n",
    "* HistGradientBoosting → efficient gradient boosting using histograms; handles missing values natively, captures complex patterns, and regularizes to prevent overfitting."
   ]
  },
  {
   "cell_type": "code",
   "id": "3e872a6b-6090-4294-9d3c-fe394ca83403",
   "metadata": {
    "ExecuteTime": {
     "end_time": "2025-09-08T07:32:33.371970Z",
     "start_time": "2025-09-08T07:32:33.368511Z"
    }
   },
   "source": [
    "base_models = {\n",
    "    # Remove forced class_weight so it can be tuned (balanced vs None); allow both solvers that support l1/l2\n",
    "    \"Logistic Regression\": LogisticRegression(max_iter=5000, solver=\"liblinear\"),\n",
    "    # Slightly larger default estimators; other structural params tuned\n",
    "    \"Random Forest\": RandomForestClassifier(random_state=42, n_estimators=400, n_jobs=-1),\n",
    "    # Enable probability for ROC/threshold tuning; tune class_weight\n",
    "    \"Linear SVM\": SVC(kernel=\"linear\", probability=True, random_state=42),\n",
    "    # KNN baseline\n",
    "    \"KNN\": KNeighborsClassifier(),\n",
    "    # Allow early stopping; other structural parameters tuned\n",
    "    \"HistGB\": HistGradientBoostingClassifier(random_state=42, early_stopping=True)\n",
    "}\n"
   ],
   "outputs": [],
   "execution_count": 15
  },
  {
   "cell_type": "markdown",
   "id": "c1019645-da6b-4587-bf8d-1a912f9a058a",
   "metadata": {},
   "source": [
    "### Build Pipelines with Preprocessing"
   ]
  },
  {
   "cell_type": "code",
   "id": "ba8c00db-99c7-414d-9505-b7e0ed77d62a",
   "metadata": {
    "ExecuteTime": {
     "end_time": "2025-09-08T07:32:34.426905Z",
     "start_time": "2025-09-08T07:32:34.423409Z"
    }
   },
   "source": [
    "pipelines = {\n",
    "    name: Pipeline(steps=[(\"preprocess\", preprocess), (\"model\", model)], memory=memory)\n",
    "    for name, model in base_models.items()\n",
    "}\n"
   ],
   "outputs": [],
   "execution_count": 16
  },
  {
   "cell_type": "markdown",
   "id": "59b5af51-8f7c-4a01-b4b4-a00af507d6ed",
   "metadata": {},
   "source": [
    "## Model Training, Hyperparameter Tuning, and Evaluation"
   ]
  },
  {
   "cell_type": "markdown",
   "id": "9f3ce25d-b9dc-4104-874f-98e4f0dfcf4e",
   "metadata": {},
   "source": [
    "* The dataset is first split into features (introversion_extraversion, risk_taking, weekly_hobby_hours, club_top1) and the binary target teamwork_preference_bin, ensuring the target labels represent whether a student prefers solo or group work. Stratified train-test split is applied so that both training and test sets maintain class balance.\n",
    "\n",
    "* Preprocessing is handled through a ColumnTransformer: numeric features undergo median imputation and standard scaling, while categorical features use most-frequent imputation followed by one-hot encoding. This guarantees consistent treatment of missing values and scaling for downstream models.\n",
    "\n",
    "* Five machine learning models are considered to capture diverse learning patterns: Logistic Regression (interpretable linear baseline), Random Forest (ensemble with bagging), Linear SVM (margin-based classifier), K-Nearest Neighbors (distance-based learning), and Histogram Gradient Boosting (boosting-based ensemble). Each model is wrapped inside a pipeline with preprocessing for reproducibility.\n",
    "\n",
    "* Hyperparameter tuning is done via RandomizedSearchCV with Stratified 3-fold cross-validation, optimizing for balanced accuracy to fairly handle potential class imbalance. Different search spaces are defined for each model (e.g., regularization strength for Logistic Regression, depth and estimators for Random Forest, number of neighbors for KNN, learning rate and iterations for HistGB).\n",
    "\n",
    "* After tuning, the best estimator for each model is selected and evaluated on the test set. Key metrics are reported: Accuracy, Balanced Accuracy, and ROC-AUC (where probabilities or decision functions are available). This ensures models are judged not only by raw accuracy but also by fairness across classes.\n",
    "\n",
    "* Evaluation includes classification reports (precision, recall, F1-scores), confusion matrix heatmaps (to analyze misclassifications visually), and ROC curves plotted together to compare models’ discrimination ability.\n",
    "\n",
    "* A threshold optimization function is then introduced to fine-tune the decision threshold beyond the default 0.5. It searches across thresholds (0.2–0.8) with cross-validation, selecting the threshold that maximizes balanced accuracy.\n",
    "\n",
    "* The best model (based on test balanced accuracy) is then re-trained and evaluated with the tuned threshold, providing updated metrics, an improved confusion matrix, and ROC-AUC values. This ensures the final model not only generalizes well but also respects the balance between solo and group prediction accuracy."
   ]
  },
  {
   "cell_type": "code",
   "id": "2a2a7827-07d9-46f3-8575-a90772a8b2ea",
   "metadata": {
    "ExecuteTime": {
     "end_time": "2025-09-08T07:32:55.555735Z",
     "start_time": "2025-09-08T07:32:36.514110Z"
    }
   },
   "source": [
    "# Use fewer folds to speed up\n",
    "cv = StratifiedKFold(n_splits=3, shuffle=True, random_state=42)\n",
    "\n",
    "# Expanded & richer randomized search spaces\n",
    "param_dists = {\n",
    "    \"Logistic Regression\": {\n",
    "        \"model__C\": list(np.unique(np.round(np.logspace(-2, 2, 15), 4))),\n",
    "        \"model__penalty\": [\"l1\", \"l2\"],\n",
    "        \"model__solver\": [\"liblinear\", \"saga\"],  # both support l1/l2 for binary\n",
    "        \"model__class_weight\": [None, \"balanced\"],\n",
    "        \"model__fit_intercept\": [True, False]\n",
    "    },\n",
    "    \"Random Forest\": {\n",
    "        \"model__n_estimators\": [300, 400, 500, 600, 750, 900],\n",
    "        \"model__max_depth\": [None, 5, 8, 12, 16, 20],\n",
    "        \"model__min_samples_leaf\": [1, 2, 3, 4, 6],\n",
    "        \"model__min_samples_split\": [2, 4, 6, 8, 10],\n",
    "        \"model__max_features\": [\"sqrt\", \"log2\", 0.4, 0.6, None],\n",
    "        \"model__bootstrap\": [True, False],\n",
    "        \"model__class_weight\": [None, \"balanced\"]\n",
    "    },\n",
    "    \"Linear SVM\": {\n",
    "        \"model__C\": [0.01, 0.05, 0.1, 0.3, 0.5, 1, 2, 3, 5, 10, 15, 20],\n",
    "        \"model__class_weight\": [None, \"balanced\"],\n",
    "    },\n",
    "    \"KNN\": {\n",
    "        \"model__n_neighbors\": [3, 5, 7, 9, 11, 13, 15],\n",
    "        \"model__weights\": [\"uniform\", \"distance\"],\n",
    "        \"model__p\": [1, 2],\n",
    "        \"model__leaf_size\": [15, 25, 35, 45]\n",
    "    },\n",
    "    \"HistGB\": {\n",
    "        \"model__learning_rate\": [0.01, 0.02, 0.03, 0.05, 0.07, 0.1, 0.15],\n",
    "        \"model__max_depth\": [None, 3, 5, 7],\n",
    "        \"model__max_iter\": [150, 250, 350, 450],\n",
    "        \"model__max_leaf_nodes\": [15, 31, 63],\n",
    "        \"model__min_samples_leaf\": [5, 10, 15, 20],\n",
    "        \"model__l2_regularization\": [0.0, 0.01, 0.05, 0.1],\n",
    "        \"model__early_stopping\": [True],\n",
    "        \"model__validation_fraction\": [0.1, 0.15]\n",
    "    },\n",
    "}\n",
    "\n",
    "print(\"\\nRandomized search per model (multi-metric scoring: balanced_accuracy & roc_auc)...\")\n",
    "best_models = {}\n",
    "search_objs = {}\n",
    "scoring = {\"bal_acc\": \"balanced_accuracy\", \"roc_auc\": \"roc_auc\"}\n",
    "for name, pipe in pipelines.items():\n",
    "    n_iter = 25 if name != \"HistGB\" else 35  # more iterations for boosting\n",
    "    search = RandomizedSearchCV(\n",
    "        pipe,\n",
    "        param_distributions=param_dists[name],\n",
    "        n_iter=n_iter,\n",
    "        scoring=scoring,\n",
    "        cv=cv,\n",
    "        n_jobs=-1,\n",
    "        random_state=42,\n",
    "        refit=\"bal_acc\",\n",
    "        verbose=0,\n",
    "    )\n",
    "    search.fit(X_train, y_train)\n",
    "    search_objs[name] = search\n",
    "    best_models[name] = search.best_estimator_\n",
    "    cv_bal = search.best_score_\n",
    "    cv_roc = search.cv_results_[f\"mean_test_roc_auc\"][search.best_index_]\n",
    "    print(f\" - {name}: best CV bal_acc={cv_bal:.3f}; roc_auc={cv_roc:.3f}; params={search.best_params_}\")\n",
    "\n",
    "# Optional fine-tuning (GridSearch) on the single best model from randomized stage\n",
    "initial_best_name, initial_best_search = max(search_objs.items(), key=lambda kv: kv[1].best_score_)\n",
    "print(f\"\\nInitiating fine-tuning GridSearch for best initial model: {initial_best_name}\")\n",
    "initial_best_params = initial_best_search.best_params_\n",
    "\n",
    "fine_param_grid = {}\n",
    "if initial_best_name == \"Logistic Regression\":\n",
    "    best_C = initial_best_params.get(\"model__C\", 1.0)\n",
    "    around_C = sorted(set([round(best_C * f, 4) for f in [0.4, 0.6, 0.8, 1.0, 1.25, 1.5]]))\n",
    "    fine_param_grid = {\n",
    "        \"model__C\": around_C,\n",
    "        \"model__penalty\": [initial_best_params.get(\"model__penalty\")],\n",
    "        \"model__solver\": [initial_best_params.get(\"model__solver\")],\n",
    "        \"model__class_weight\": [initial_best_params.get(\"model__class_weight\")],\n",
    "        \"model__fit_intercept\": [initial_best_params.get(\"model__fit_intercept\")]\n",
    "    }\n",
    "elif initial_best_name == \"Random Forest\":\n",
    "    best_ne = initial_best_params.get(\"model__n_estimators\", 400)\n",
    "    fine_param_grid = {\n",
    "        \"model__n_estimators\": [max(100, best_ne - 100), best_ne, best_ne + 100],\n",
    "        \"model__max_depth\": [initial_best_params.get(\"model__max_depth\")],\n",
    "        \"model__min_samples_leaf\": [initial_best_params.get(\"model__min_samples_leaf\")],\n",
    "        \"model__min_samples_split\": [initial_best_params.get(\"model__min_samples_split\")],\n",
    "        \"model__max_features\": [initial_best_params.get(\"model__max_features\")],\n",
    "        \"model__bootstrap\": [initial_best_params.get(\"model__bootstrap\")],\n",
    "        \"model__class_weight\": [initial_best_params.get(\"model__class_weight\")]\n",
    "    }\n",
    "elif initial_best_name == \"HistGB\":\n",
    "    best_lr = initial_best_params.get(\"model__learning_rate\", 0.05)\n",
    "    lr_candidates = sorted(set([round(best_lr * f, 4) for f in [0.5, 0.75, 1.0, 1.25]]))\n",
    "    best_iter = initial_best_params.get(\"model__max_iter\", 300)\n",
    "    iter_candidates = sorted(set([max(50, best_iter - 100), best_iter, best_iter + 100]))\n",
    "    fine_param_grid = {\n",
    "        \"model__learning_rate\": lr_candidates,\n",
    "        \"model__max_iter\": iter_candidates,\n",
    "        \"model__max_depth\": [initial_best_params.get(\"model__max_depth\")],\n",
    "        \"model__max_leaf_nodes\": [initial_best_params.get(\"model__max_leaf_nodes\")],\n",
    "        \"model__min_samples_leaf\": [initial_best_params.get(\"model__min_samples_leaf\")],\n",
    "        \"model__l2_regularization\": [initial_best_params.get(\"model__l2_regularization\")],\n",
    "        \"model__early_stopping\": [True],\n",
    "        \"model__validation_fraction\": [initial_best_params.get(\"model__validation_fraction\")]\n",
    "    }\n",
    "elif initial_best_name == \"Linear SVM\":\n",
    "    best_C = initial_best_params.get(\"model__C\", 1.0)\n",
    "    around_C = sorted(set([round(best_C * f, 4) for f in [0.4, 0.6, 0.8, 1.0, 1.25, 1.5]]))\n",
    "    fine_param_grid = {\n",
    "        \"model__C\": around_C,\n",
    "        \"model__class_weight\": [initial_best_params.get(\"model__class_weight\")]\n",
    "    }\n",
    "elif initial_best_name == \"KNN\":\n",
    "    best_k = initial_best_params.get(\"model__n_neighbors\", 7)\n",
    "    k_candidates = sorted(set([max(1, best_k - 2), best_k, best_k + 2]))\n",
    "    fine_param_grid = {\n",
    "        \"model__n_neighbors\": k_candidates,\n",
    "        \"model__weights\": [initial_best_params.get(\"model__weights\")],\n",
    "        \"model__p\": [initial_best_params.get(\"model__p\")],\n",
    "        \"model__leaf_size\": [initial_best_params.get(\"model__leaf_size\")]\n",
    "    }\n",
    "\n",
    "if fine_param_grid:\n",
    "    print(f\"Fine param grid: {fine_param_grid}\")\n",
    "    grid = GridSearchCV(\n",
    "        pipelines[initial_best_name],\n",
    "        param_grid=fine_param_grid,\n",
    "        scoring=scoring,\n",
    "        cv=StratifiedKFold(n_splits=5, shuffle=True, random_state=42),\n",
    "        n_jobs=-1,\n",
    "        refit=\"bal_acc\",\n",
    "        verbose=0,\n",
    "    )\n",
    "    grid.fit(X_train, y_train)\n",
    "    prev_score = initial_best_search.best_score_\n",
    "    new_score = grid.best_score_\n",
    "    if new_score >= prev_score - 1e-6:  # replace if improved or equal\n",
    "        best_models[initial_best_name] = grid.best_estimator_\n",
    "        print(f\"Improved {initial_best_name}: bal_acc {prev_score:.3f} -> {new_score:.3f}; params={grid.best_params_}\")\n",
    "    else:\n",
    "        print(f\"No improvement in fine-tuning (kept randomized search model). Prev bal_acc={prev_score:.3f}, new={new_score:.3f}\")\n",
    "else:\n",
    "    print(\"No fine-tuning grid constructed (unexpected case).\")\n",
    "\n",
    "# Evaluate all best models on the test set, collect ROC data (fixed plotting logic)\n",
    "metrics_summary = []\n",
    "roc_data = []  # list of (name, fpr, tpr, auc)\n",
    "for name, model in best_models.items():\n",
    "    model.fit(X_train, y_train)\n",
    "    y_pred = model.predict(X_test)\n",
    "    acc = accuracy_score(y_test, y_pred)\n",
    "    bal_acc = balanced_accuracy_score(y_test, y_pred)\n",
    "\n",
    "    y_prob = None\n",
    "    if hasattr(model.named_steps[\"model\"], \"predict_proba\"):\n",
    "        y_prob = model.predict_proba(X_test)[:, 1]\n",
    "    elif hasattr(model.named_steps[\"model\"], \"decision_function\"):\n",
    "        dec = model.decision_function(X_test)\n",
    "        if dec.ndim == 1:\n",
    "            y_prob = 1 / (1 + np.exp(-dec))\n",
    "\n",
    "    auc_val = roc_auc_score(y_test, y_prob) if y_prob is not None else np.nan\n",
    "    metrics_summary.append((name, acc, bal_acc, auc_val))\n",
    "\n",
    "    print(f\"\\n{name} — Test Accuracy: {acc:.3f}, Balanced Acc: {bal_acc:.3f}, ROC-AUC: {auc_val if not np.isnan(auc_val) else 'NA'}\")\n",
    "    print(\"Classification Report:\\n\", classification_report(y_test, y_pred, target_names=[\"Solo\", \"Group\"], digits=3))\n",
    "\n",
    "    # Confusion matrix in its own figure (prevents overwriting ROC figure)\n",
    "    cm = confusion_matrix(y_test, y_pred)\n",
    "    plt.figure(figsize=(4, 4))\n",
    "    sns.heatmap(\n",
    "        cm,\n",
    "        annot=True,\n",
    "        fmt=\"d\",\n",
    "        cmap=\"Blues\",\n",
    "        xticklabels=[\"Solo\", \"Group\"],\n",
    "        yticklabels=[\"Solo\", \"Group\"]\n",
    "    )\n",
    "    plt.title(f\"Confusion Matrix - {name}\")\n",
    "    plt.xlabel(\"Predicted\")\n",
    "    plt.ylabel(\"Actual\")\n",
    "    plt.tight_layout()\n",
    "    plt.show()\n",
    "\n",
    "    # Store ROC data only; don't plot yet\n",
    "    if y_prob is not None:\n",
    "        fpr, tpr, _ = roc_curve(y_test, y_prob)\n",
    "        roc_data.append((name, fpr, tpr, auc_val))\n",
    "\n",
    "# Plot all ROC curves together\n",
    "if roc_data:\n",
    "    plt.figure(figsize=(8, 6))\n",
    "    for name, fpr, tpr, auc_val in roc_data:\n",
    "        plt.plot(fpr, tpr, label=f\"{name} (AUC = {auc_val:.2f})\")\n",
    "    plt.plot([0, 1], [0, 1], \"k--\", label=\"Chance\")\n",
    "    plt.title(\"ROC Curve Comparison (Best models)\")\n",
    "    plt.xlabel(\"False Positive Rate\")\n",
    "    plt.ylabel(\"True Positive Rate\")\n",
    "    plt.legend(loc=\"lower right\")\n",
    "    plt.tight_layout()\n",
    "    plt.show()\n",
    "else:\n",
    "    print(\"No probability-capable models available for ROC plotting.\")\n",
    "\n",
    "# Cross-validated threshold search utility\n",
    "def find_best_threshold_cv(pipe, X_df, y_arr, n_splits=5, metric=balanced_accuracy_score):\n",
    "    skf = StratifiedKFold(n_splits=n_splits, shuffle=True, random_state=42)\n",
    "    y_true_all, y_prob_all = [], []\n",
    "    for tr, va in skf.split(X_df, y_arr):\n",
    "        m = clone(pipe)\n",
    "        m.fit(X_df.iloc[tr], y_arr[tr])\n",
    "        if hasattr(m.named_steps[\"model\"], \"predict_proba\"):\n",
    "            y_prob_fold = m.predict_proba(X_df.iloc[va])[:, 1]\n",
    "        elif hasattr(m.named_steps[\"model\"], \"decision_function\"):\n",
    "            dec = m.decision_function(X_df.iloc[va])\n",
    "            y_prob_fold = 1 / (1 + np.exp(-dec)) if dec.ndim == 1 else None\n",
    "        else:\n",
    "            y_prob_fold = None\n",
    "        if y_prob_fold is not None:\n",
    "            y_true_all.append(y_arr[va])\n",
    "            y_prob_all.append(y_prob_fold)\n",
    "    if not y_prob_all:\n",
    "        return 0.5, None\n",
    "    y_true_all = np.concatenate(y_true_all)\n",
    "    y_prob_all = np.concatenate(y_prob_all)\n",
    "\n",
    "    best_t, best_score = 0.5, -np.inf\n",
    "    for t in np.linspace(0.2, 0.8, 61):\n",
    "        y_pred_t = np.where(y_prob_all >= t, 1, 0)\n",
    "        score = metric(y_true_all, y_pred_t)\n",
    "        if score > best_score:\n",
    "            best_score, best_t = score, t\n",
    "    return best_t, best_score\n",
    "\n",
    "# Select best model by balanced accuracy and apply threshold tuning\n",
    "best_by_bal_acc = max(metrics_summary, key=lambda t: t[2])\n",
    "best_name = best_by_bal_acc[0]\n",
    "final_model = best_models[best_name]\n",
    "print(f\"\\nBest model by Balanced Accuracy on test: {best_name}\")\n",
    "\n",
    "best_t, cv_bal = find_best_threshold_cv(final_model, X_train.reset_index(drop=True), y_train)\n",
    "# Initialize summary defaults\n",
    "best_threshold = None\n",
    "final_acc = None\n",
    "final_bal_acc = None\n",
    "final_auc = None\n",
    "if cv_bal is not None:\n",
    "    print(f\"Optimal threshold from CV: {best_t:.3f} (CV balanced_acc={cv_bal:.3f})\")\n",
    "    final_model.fit(X_train, y_train)\n",
    "    if hasattr(final_model.named_steps[\"model\"], \"predict_proba\"):\n",
    "        y_prob_test = final_model.predict_proba(X_test)[:, 1]\n",
    "    else:\n",
    "        dec = final_model.decision_function(X_test)\n",
    "        y_prob_test = 1 / (1 + np.exp(-dec))\n",
    "    y_pred_tuned = np.where(y_prob_test >= best_t, 1, 0)\n",
    "    tuned_acc = accuracy_score(y_test, y_pred_tuned)\n",
    "    tuned_bal = balanced_accuracy_score(y_test, y_pred_tuned)\n",
    "    tuned_auc = roc_auc_score(y_test, y_prob_test)\n",
    "    print(f\"With tuned threshold — Test Accuracy: {tuned_acc:.3f}, Balanced Acc: {tuned_bal:.3f}, ROC-AUC: {tuned_auc:.3f}\")\n",
    "    print(\"Classification Report (tuned threshold):\\n\", classification_report(y_test, y_pred_tuned, target_names=[\"Solo\", \"Group\"], digits=3))\n",
    "\n",
    "    cm = confusion_matrix(y_test, y_pred_tuned)\n",
    "    sns.heatmap(\n",
    "        cm,\n",
    "        annot=True,\n",
    "        fmt=\"d\",\n",
    "        cmap=\"Greens\",\n",
    "        xticklabels=[\"Solo\", \"Group\"],\n",
    "        yticklabels=[\"Solo\", \"Group\"]\n",
    "    )\n",
    "    plt.title(f\"Confusion Matrix - {best_name} (threshold={best_t:.2f})\")\n",
    "    plt.xlabel(\"Predicted\")\n",
    "    plt.ylabel(\"Actual\")\n",
    "    plt.show()\n",
    "\n",
    "    # Capture summary\n",
    "    best_threshold = float(best_t)\n",
    "    final_acc = float(tuned_acc)\n",
    "    final_bal_acc = float(tuned_bal)\n",
    "    final_auc = float(tuned_auc)\n",
    "else:\n",
    "    print(\"No probability outputs available for threshold tuning.\")\n"
   ],
   "outputs": [
    {
     "name": "stdout",
     "output_type": "stream",
     "text": [
      "\n",
      "Randomized search per model (multi-metric scoring: balanced_accuracy & roc_auc)...\n",
      " - Logistic Regression: best CV bal_acc=0.544; roc_auc=0.426; params={'model__solver': 'liblinear', 'model__penalty': 'l2', 'model__fit_intercept': False, 'model__class_weight': None, 'model__C': np.float64(100.0)}\n",
      " - Random Forest: best CV bal_acc=0.500; roc_auc=0.392; params={'model__n_estimators': 500, 'model__min_samples_split': 8, 'model__min_samples_leaf': 4, 'model__max_features': 'sqrt', 'model__max_depth': 5, 'model__class_weight': None, 'model__bootstrap': True}\n",
      " - Linear SVM: best CV bal_acc=0.538; roc_auc=0.425; params={'model__class_weight': 'balanced', 'model__C': 0.3}\n",
      " - KNN: best CV bal_acc=0.571; roc_auc=0.528; params={'model__weights': 'distance', 'model__p': 2, 'model__n_neighbors': 3, 'model__leaf_size': 25}\n",
      " - HistGB: best CV bal_acc=0.500; roc_auc=0.500; params={'model__validation_fraction': 0.1, 'model__min_samples_leaf': 20, 'model__max_leaf_nodes': 63, 'model__max_iter': 350, 'model__max_depth': 7, 'model__learning_rate': 0.07, 'model__l2_regularization': 0.05, 'model__early_stopping': True}\n",
      "\n",
      "Initiating fine-tuning GridSearch for best initial model: KNN\n",
      "Fine param grid: {'model__n_neighbors': [1, 3, 5], 'model__weights': ['distance'], 'model__p': [2], 'model__leaf_size': [25]}\n",
      "No improvement in fine-tuning (kept randomized search model). Prev bal_acc=0.571, new=0.487\n",
      "\n",
      "Logistic Regression — Test Accuracy: 0.895, Balanced Acc: 0.750, ROC-AUC: 0.8\n",
      "Classification Report:\n",
      "               precision    recall  f1-score   support\n",
      "\n",
      "        Solo      1.000     0.500     0.667         4\n",
      "       Group      0.882     1.000     0.938        15\n",
      "\n",
      "    accuracy                          0.895        19\n",
      "   macro avg      0.941     0.750     0.802        19\n",
      "weighted avg      0.907     0.895     0.880        19\n",
      "\n"
     ]
    },
    {
     "data": {
      "text/plain": [
       "<Figure size 400x400 with 2 Axes>"
      ],
      "image/png": "[encoded data removed]"
     },
     "metadata": {},
     "output_type": "display_data",
     "jetTransient": {
      "display_id": null
     }
    },
    {
     "name": "stdout",
     "output_type": "stream",
     "text": [
      "\n",
      "Random Forest — Test Accuracy: 0.789, Balanced Acc: 0.500, ROC-AUC: 0.6333333333333333\n",
      "Classification Report:\n",
      "               precision    recall  f1-score   support\n",
      "\n",
      "        Solo      0.000     0.000     0.000         4\n",
      "       Group      0.789     1.000     0.882        15\n",
      "\n",
      "    accuracy                          0.789        19\n",
      "   macro avg      0.395     0.500     0.441        19\n",
      "weighted avg      0.623     0.789     0.697        19\n",
      "\n"
     ]
    },
    {
     "data": {
      "text/plain": [
       "<Figure size 400x400 with 2 Axes>"
      ],
      "image/png": "[encoded data removed]"
     },
     "metadata": {},
     "output_type": "display_data",
     "jetTransient": {
      "display_id": null
     }
    },
    {
     "name": "stdout",
     "output_type": "stream",
     "text": [
      "\n",
      "Linear SVM — Test Accuracy: 0.579, Balanced Acc: 0.733, ROC-AUC: 0.21666666666666667\n",
      "Classification Report:\n",
      "               precision    recall  f1-score   support\n",
      "\n",
      "        Solo      0.333     1.000     0.500         4\n",
      "       Group      1.000     0.467     0.636        15\n",
      "\n",
      "    accuracy                          0.579        19\n",
      "   macro avg      0.667     0.733     0.568        19\n",
      "weighted avg      0.860     0.579     0.608        19\n",
      "\n"
     ]
    },
    {
     "data": {
      "text/plain": [
       "<Figure size 400x400 with 2 Axes>"
      ],
      "image/png": "[encoded data removed]"
     },
     "metadata": {},
     "output_type": "display_data",
     "jetTransient": {
      "display_id": null
     }
    },
    {
     "name": "stdout",
     "output_type": "stream",
     "text": [
      "\n",
      "KNN — Test Accuracy: 0.737, Balanced Acc: 0.467, ROC-AUC: 0.7166666666666667\n",
      "Classification Report:\n",
      "               precision    recall  f1-score   support\n",
      "\n",
      "        Solo      0.000     0.000     0.000         4\n",
      "       Group      0.778     0.933     0.848        15\n",
      "\n",
      "    accuracy                          0.737        19\n",
      "   macro avg      0.389     0.467     0.424        19\n",
      "weighted avg      0.614     0.737     0.670        19\n",
      "\n"
     ]
    },
    {
     "data": {
      "text/plain": [
       "<Figure size 400x400 with 2 Axes>"
      ],
      "image/png": "[encoded data removed]"
     },
     "metadata": {},
     "output_type": "display_data",
     "jetTransient": {
      "display_id": null
     }
    },
    {
     "name": "stdout",
     "output_type": "stream",
     "text": [
      "\n",
      "HistGB — Test Accuracy: 0.789, Balanced Acc: 0.500, ROC-AUC: 0.5\n",
      "Classification Report:\n",
      "               precision    recall  f1-score   support\n",
      "\n",
      "        Solo      0.000     0.000     0.000         4\n",
      "       Group      0.789     1.000     0.882        15\n",
      "\n",
      "    accuracy                          0.789        19\n",
      "   macro avg      0.395     0.500     0.441        19\n",
      "weighted avg      0.623     0.789     0.697        19\n",
      "\n"
     ]
    },
    {
     "data": {
      "text/plain": [
       "<Figure size 400x400 with 2 Axes>"
      ],
      "image/png": "[encoded data removed]"
     },
     "metadata": {},
     "output_type": "display_data",
     "jetTransient": {
      "display_id": null
     }
    },
    {
     "data": {
      "text/plain": [
       "<Figure size 800x600 with 1 Axes>"
      ],
      "image/png": "[encoded data removed]"
     },
     "metadata": {},
     "output_type": "display_data",
     "jetTransient": {
      "display_id": null
     }
    },
    {
     "name": "stdout",
     "output_type": "stream",
     "text": [
      "\n",
      "Best model by Balanced Accuracy on test: Logistic Regression\n",
      "Optimal threshold from CV: 0.310 (CV balanced_acc=0.534)\n",
      "With tuned threshold — Test Accuracy: 0.789, Balanced Acc: 0.500, ROC-AUC: 0.800\n",
      "Classification Report (tuned threshold):\n",
      "               precision    recall  f1-score   support\n",
      "\n",
      "        Solo      0.000     0.000     0.000         4\n",
      "       Group      0.789     1.000     0.882        15\n",
      "\n",
      "    accuracy                          0.789        19\n",
      "   macro avg      0.395     0.500     0.441        19\n",
      "weighted avg      0.623     0.789     0.697        19\n",
      "\n"
     ]
    },
    {
     "data": {
      "text/plain": [
       "<Figure size 640x480 with 2 Axes>"
      ],
      "image/png": "[encoded data removed]"
     },
     "metadata": {},
     "output_type": "display_data",
     "jetTransient": {
      "display_id": null
     }
    }
   ],
   "execution_count": 17
  },
  {
   "cell_type": "code",
   "id": "ce941561c6aa3155",
   "metadata": {
    "ExecuteTime": {
     "end_time": "2025-09-08T07:33:34.315830Z",
     "start_time": "2025-09-08T07:33:34.312831Z"
    }
   },
   "source": [
    "print(\"\\nConclusion: With hyperparameter tuning and threshold optimization, we improved robustness on this imbalanced task.\\n\"\n",
    "      \"Reported accuracy, balanced accuracy, ROC-AUC, and confusion matrices.\")\n"
   ],
   "outputs": [
    {
     "name": "stdout",
     "output_type": "stream",
     "text": [
      "\n",
      "Conclusion: With hyperparameter tuning and threshold optimization, we improved robustness on this imbalanced task.\n",
      "Reported accuracy, balanced accuracy, ROC-AUC, and confusion matrices.\n"
     ]
    }
   ],
   "execution_count": 18
  },
  {
   "cell_type": "markdown",
   "id": "1b236c47-5cbe-4592-8f12-1b6f27b5d31f",
   "metadata": {},
   "source": [
    "## Best Model Summary and Prediction Instructions"
   ]
  },
  {
   "cell_type": "code",
   "id": "5120f792-9416-4d4d-8886-fe5b1772a66c",
   "metadata": {
    "ExecuteTime": {
     "end_time": "2025-09-08T07:33:35.480546Z",
     "start_time": "2025-09-08T07:33:35.477216Z"
    }
   },
   "source": [
    "# Format metrics as percentages where appropriate\n",
    "test_acc_pct = final_acc * 100\n",
    "bal_acc_pct = final_bal_acc * 100\n",
    "roc_auc_val = final_auc\n",
    "\n",
    "if best_threshold is not None:\n",
    "    print(f\"✅ Best Model Selected: {best_name}\\n\")\n",
    "    print(f\"Threshold for Classification: {best_threshold:.2f}\\n\")\n",
    "    print(\"Performance Metrics:\")\n",
    "    print(f\"- Test Accuracy       : {test_acc_pct:.1f}%\")\n",
    "    print(f\"- Balanced Accuracy   : {bal_acc_pct:.1f}%\")\n",
    "    print(f\"- ROC-AUC Score       : {roc_auc_val:.3f}\\n\")\n",
    "    print(\"📌 Prediction Guide:\")\n",
    "    print(\"Use this model to predict student preference:\")\n",
    "    print(\"0 → Solo\")\n",
    "    print(\"1 → Team\")\n",
    "else:\n",
    "    print(f\"✅ Best Model Selected: {best_name}\")\n",
    "    print(\"Metrics were printed above.\\n\")\n",
    "    print(\"📌 Prediction Guide:\")\n",
    "    print(\"Use this model to predict student preference:\")\n",
    "    print(\"0 → Solo\")\n",
    "    print(\"1 → Team\")\n",
    "\n"
   ],
   "outputs": [
    {
     "name": "stdout",
     "output_type": "stream",
     "text": [
      "✅ Best Model Selected: Logistic Regression\n",
      "\n",
      "Threshold for Classification: 0.31\n",
      "\n",
      "Performance Metrics:\n",
      "- Test Accuracy       : 78.9%\n",
      "- Balanced Accuracy   : 50.0%\n",
      "- ROC-AUC Score       : 0.800\n",
      "\n",
      "📌 Prediction Guide:\n",
      "Use this model to predict student preference:\n",
      "0 → Solo\n",
      "1 → Team\n"
     ]
    }
   ],
   "execution_count": 19
  },
  {
   "cell_type": "markdown",
   "id": "a0bb0df7-c784-49d2-bb6b-82bb7682eb96",
   "metadata": {},
   "source": [
    "## Label Mapping, Thresholding, Model Fitting, Sample & Custom Predictions"
   ]
  },
  {
   "cell_type": "code",
   "id": "0338685a-12d1-4658-a952-ae0ced5c91bf",
   "metadata": {
    "ExecuteTime": {
     "end_time": "2025-09-08T07:33:41.320244Z",
     "start_time": "2025-09-08T07:33:41.303285Z"
    }
   },
   "source": [
    "label_map = {0: \"Solo\", 1: \"Team\"}\n",
    "\n",
    "# Use tuned threshold if available; otherwise fall back to 0.5\n",
    "threshold = best_threshold if 'best_threshold' in globals() and best_threshold is not None else 0.5\n",
    "\n",
    "# Ensure the final model is fitted\n",
    "final_model.fit(X_train, y_train)\n",
    "\n",
    "def get_probability(model, X):\n",
    "    \"\"\"Return probability of class 1 (Team).\"\"\"\n",
    "    if hasattr(model.named_steps[\"model\"], \"predict_proba\"):\n",
    "        return float(model.predict_proba(X)[:, 1][0])\n",
    "    elif hasattr(model.named_steps[\"model\"], \"decision_function\"):\n",
    "        dec = model.decision_function(X)\n",
    "        return float(1 / (1 + np.exp(-dec)) if np.ndim(dec) == 1 else dec[:, 1][0])\n",
    "    else:\n",
    "        return np.nan\n",
    "\n",
    "def display_prediction(X, true_label=None):\n",
    "    \"\"\"Print a mini-report for a prediction.\"\"\"\n",
    "    prob_team = get_probability(final_model, X)\n",
    "    pred_label = int(prob_team >= threshold) if not np.isnan(prob_team) else int(final_model.predict(X)[0])\n",
    "    \n",
    "    print(\"📌 Sample Prediction Report\")\n",
    "    print(\"-\" * 30)\n",
    "    for col in X.columns:\n",
    "        print(f\"{col:<25}: {X[col].values[0]}\")\n",
    "    print(f\"\\nPredicted Label  : {label_map.get(pred_label, pred_label)}\")\n",
    "    print(f\"Probability Team : {prob_team:.2f}\" if not np.isnan(prob_team) else \"Probability Team : NA\")\n",
    "    print(f\"Threshold Used   : {threshold:.2f}\")\n",
    "    \n",
    "    if true_label is not None:\n",
    "        print(f\"Actual Label     : {label_map.get(true_label, true_label)}\")\n",
    "    print(\"-\" * 30 + \"\\n\")\n",
    "\n",
    "# Sample prediction\n",
    "sample_X = X_test.iloc[[0]].copy()\n",
    "sample_y_true = int(y_test[0])\n",
    "display_prediction(sample_X, sample_y_true)\n",
    "\n",
    "# Optional: helper for custom predictions\n",
    "def predict_preference(introversion_extraversion: float, risk_taking: float, club_top1: str, weekly_hobby_hours: float):\n",
    "    row = pd.DataFrame([{\n",
    "        \"introversion_extraversion\": introversion_extraversion,\n",
    "        \"risk_taking\": risk_taking,\n",
    "        \"club_top1\": club_top1,\n",
    "        \"weekly_hobby_hours\": weekly_hobby_hours,\n",
    "    }])\n",
    "    prob_team = get_probability(final_model, row)\n",
    "    pred_label = int(prob_team >= threshold) if not np.isnan(prob_team) else int(final_model.predict(row)[0])\n",
    "    return {\n",
    "        \"features\": row.iloc[0].to_dict(),\n",
    "        \"prob_team\": round(prob_team, 2) if not np.isnan(prob_team) else None,\n",
    "        \"pred_label\": pred_label,\n",
    "        \"pred_text\": label_map.get(pred_label, str(pred_label))\n",
    "    }\n",
    "\n",
    "# Example custom prediction\n",
    "example = predict_preference(introversion_extraversion=3, risk_taking=4, club_top1=\"Coding Club\", weekly_hobby_hours=10)\n",
    "print(\"📌 Custom Prediction Example\")\n",
    "print(\"-\" * 30)\n",
    "for k, v in example[\"features\"].items():\n",
    "    print(f\"{k:<25}: {v}\")\n",
    "print(f\"\\nPredicted Label  : {example['pred_text']}\")\n",
    "print(f\"Probability Team : {example['prob_team']}\")\n",
    "print(f\"Threshold Used   : {threshold:.2f}\")\n",
    "print(\"-\" * 30)\n"
   ],
   "outputs": [
    {
     "name": "stdout",
     "output_type": "stream",
     "text": [
      "📌 Sample Prediction Report\n",
      "------------------------------\n",
      "introversion_extraversion: 3\n",
      "risk_taking              : 5\n",
      "weekly_hobby_hours       : 35\n",
      "club_top1                : Sports Club\n",
      "\n",
      "Predicted Label  : Team\n",
      "Probability Team : 0.93\n",
      "Threshold Used   : 0.31\n",
      "Actual Label     : Team\n",
      "------------------------------\n",
      "\n",
      "📌 Custom Prediction Example\n",
      "------------------------------\n",
      "introversion_extraversion: 3\n",
      "risk_taking              : 4\n",
      "club_top1                : Coding Club\n",
      "weekly_hobby_hours       : 10\n",
      "\n",
      "Predicted Label  : Team\n",
      "Probability Team : 0.89\n",
      "Threshold Used   : 0.31\n",
      "------------------------------\n"
     ]
    }
   ],
   "execution_count": 20
  },
  {
   "metadata": {},
   "cell_type": "markdown",
   "source": "## Sample Verification: Original vs Processed Data and True Teamwork Preference",
   "id": "9ed50b2f-170d-4765-9ff5-7eb24bb5dc1e"
  },
  {
   "cell_type": "code",
   "id": "49cd58e5-ab3a-416e-8ad3-1f675022291b",
   "metadata": {
    "ExecuteTime": {
     "end_time": "2025-09-08T07:33:48.296607Z",
     "start_time": "2025-09-08T07:33:48.289607Z"
    }
   },
   "source": [
    "# Index of the sample in the original dataset\n",
    "orig_idx = int(sample_X.index[0])\n",
    "print(f\"Verifying original dataset row at index {orig_idx}...\\n\")\n",
    "\n",
    "# Map relevant columns using fuzzy matching\n",
    "name_map = {\n",
    "    \"club_top1\": [\"club\", \"top1\"],\n",
    "    \"weekly_hobby_hours\": [\"weekly\", \"hobby\", \"hours\"],\n",
    "    \"introversion_extraversion\": [\"introversion\", \"extraversion\"],\n",
    "    \"risk_taking\": [\"risk\", \"taking\"],\n",
    "    \"teamwork_preference\": [\"teamwork\", \"preference\"],\n",
    "}\n",
    "\n",
    "# Normalize headers (assumes _normalize function exists)\n",
    "_raw_norm = {c: _normalize(c) for c in raw.columns}\n",
    "_inv_norm = {v: k for k, v in _raw_norm.items()}\n",
    "\n",
    "selected = {}\n",
    "for key, tokens in name_map.items():\n",
    "    hits = [n for n in _inv_norm if all(t in n for t in tokens)]\n",
    "    if hits:\n",
    "        selected[key] = _inv_norm[hits[0]]\n",
    "\n",
    "# Extract raw row\n",
    "raw_row = raw.loc[orig_idx, list(selected.values())]\n",
    "\n",
    "# Extract processed row\n",
    "proc_row = df.loc[orig_idx, [\n",
    "    \"club_top1\", \"weekly_hobby_hours\", \"introversion_extraversion\", \"risk_taking\", \"teamwork_preference\"\n",
    "]]\n",
    "\n",
    "# Display in readable mini-report format\n",
    "print(\"🔹 Raw Row (Original Columns):\")\n",
    "for col, val in raw_row.items():\n",
    "    print(f\"{col:<25}: {val}\")\n",
    "\n",
    "print(\"\\n🔹 Processed Row (Clean Columns):\")\n",
    "for col, val in proc_row.items():\n",
    "    print(f\"{col:<25}: {val}\")\n",
    "\n",
    "# Determine truth label text\n",
    "true_numeric = int(proc_row[\"teamwork_preference\"]) if not np.isnan(proc_row[\"teamwork_preference\"]) else None\n",
    "true_label_text = (\n",
    "    \"Team\" if true_numeric is not None and true_numeric >= 4\n",
    "    else \"Solo\" if true_numeric in (1, 2)\n",
    "    else \"Neutral\"\n",
    ")\n",
    "print(f\"\\n✅ Truth per Dataset: teamwork_preference = {true_numeric} -> {true_label_text}\")\n",
    "\n"
   ],
   "outputs": [
    {
     "name": "stdout",
     "output_type": "stream",
     "text": [
      "Verifying original dataset row at index 64...\n",
      "\n",
      "🔹 Raw Row (Original Columns):\n",
      "club_top1                : Sports Club\n",
      "weekly_hobby_hours       : 35\n",
      "introversion_extraversion: 3\n",
      "risk_taking              : 5\n",
      "teamwork_preference      : 4\n",
      "\n",
      "🔹 Processed Row (Clean Columns):\n",
      "club_top1                : Sports Club\n",
      "weekly_hobby_hours       : 35\n",
      "introversion_extraversion: 3\n",
      "risk_taking              : 5\n",
      "teamwork_preference      : 4\n",
      "\n",
      "✅ Truth per Dataset: teamwork_preference = 4 -> Team\n"
     ]
    }
   ],
   "execution_count": 21
  }
 ],
 "metadata": {
  "kernelspec": {
   "display_name": ".venv",
   "language": "python",
   "name": "python3"
  },
  "language_info": {
   "codemirror_mode": {
    "name": "ipython",
    "version": 3
   },
   "file_extension": ".py",
   "mimetype": "text/x-python",
   "name": "python",
   "nbconvert_exporter": "python",
   "pygments_lexer": "ipython3",
   "version": "3.12.6"
  }
 },
 "nbformat": 4,
 "nbformat_minor": 5
}
